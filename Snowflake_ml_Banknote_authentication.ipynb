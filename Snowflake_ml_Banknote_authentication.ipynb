{
 "cells": [
  {
   "cell_type": "code",
   "execution_count": 1,
   "metadata": {},
   "outputs": [],
   "source": [
    "from snowflake.snowpark import Session\n",
    "#from snowflake.core import Root\n",
    "import toml \n",
    "\n",
    "toml_file_path = ('configure.toml')\n",
    "with open(toml_file_path,'r') as file:\n",
    "    config_data = toml.load(file)\n",
    "## read from toml file\n",
    "user = config_data['RPEGU_AIML']['user']\n",
    "pwd = config_data['RPEGU_AIML']['password']\n",
    "account = config_data['RPEGU_AIML']['account']\n",
    "role = config_data['RPEGU_AIML']['role']\n",
    "\n",
    "\n",
    "\n",
    "connection_parameters = {\n",
    " \"account\": account,\n",
    " \"user\": user,\n",
    "\"password\": pwd,\n",
    "\"role\": role,  # optional\n",
    " }  \n",
    "\n",
    "session = Session.builder.configs(connection_parameters).create()\n"
   ]
  },
  {
   "cell_type": "code",
   "execution_count": 2,
   "metadata": {},
   "outputs": [
    {
     "name": "stdout",
     "output_type": "stream",
     "text": [
      "\n",
      "Connection Established with the following parameters:\n",
      "User                        : RPEGU\n",
      "Role                        : \"ACCOUNTADMIN\"\n",
      "Database                    : \"ML_MODELS\"\n",
      "Schema                      : \"DS\"\n",
      "Warehouse                   : \"DS_W\"\n",
      "Snowflake version           : 8.43.0\n",
      "Snowpark for Python version : 1.23.0\n"
     ]
    }
   ],
   "source": [
    "\n",
    "\n",
    "session.sql(\"use warehouse DS_W\").collect()\n",
    "session.sql(\"use database  ML_MODELS\").collect()\n",
    "session.sql(\"use schema ML_MODELS.DS\").collect()\n",
    "\n",
    "from snowflake.snowpark.version import VERSION\n",
    "import snowflake.snowpark.functions as F\n",
    "\n",
    "\n",
    "snowflake_environment = session.sql('SELECT current_user(), current_version()').collect()\n",
    "snowpark_version = VERSION\n",
    "\n",
    "# Current Environment Details\n",
    "print('\\nConnection Established with the following parameters:')\n",
    "print('User                        : {}'.format(snowflake_environment[0][0]))\n",
    "print('Role                        : {}'.format(session.get_current_role()))\n",
    "print('Database                    : {}'.format(session.get_current_database()))\n",
    "print('Schema                      : {}'.format(session.get_current_schema()))\n",
    "print('Warehouse                   : {}'.format(session.get_current_warehouse()))\n",
    "print('Snowflake version           : {}'.format(snowflake_environment[0][1]))\n",
    "print('Snowpark for Python version : {}.{}.{}'.format(snowpark_version[0],snowpark_version[1],snowpark_version[2]))"
   ]
  },
  {
   "cell_type": "code",
   "execution_count": 13,
   "metadata": {},
   "outputs": [
    {
     "name": "stdout",
     "output_type": "stream",
     "text": [
      "# packages in environment at /Users/rpegu/opt/anaconda3/envs/py39:\n",
      "#\n",
      "# Name                    Version                   Build  Channel\n",
      "snowflake-connector-python 3.12.3          py39h6d0c2b6_100    https://repo.anaconda.com/pkgs/snowflake\n",
      "snowflake-ml-python       1.7.1                    pypy_0    https://raw.githubusercontent.com/snowflakedb/snowflake-ml-python/conda/releases\n",
      "snowflake-snowpark-python 1.23.0          py39hecd8cb5_100    https://repo.anaconda.com/pkgs/snowflake\n",
      "\n",
      "Note: you may need to restart the kernel to use updated packages.\n"
     ]
    }
   ],
   "source": [
    "conda list snowflake"
   ]
  },
  {
   "cell_type": "markdown",
   "metadata": {},
   "source": [
    "## get the sample data"
   ]
  },
  {
   "cell_type": "code",
   "execution_count": 3,
   "metadata": {},
   "outputs": [
    {
     "name": "stdout",
     "output_type": "stream",
     "text": [
      "--------------------------------------------------------------------------------------------\n",
      "|\"VARIANCE_WAVELET\"  |\"SKEWNESS_WAVELET\"  |\"CURTOSIS_WAVELET\"  |\"IMAGE_ENTROPY\"  |\"CLASS\"  |\n",
      "--------------------------------------------------------------------------------------------\n",
      "|3.6216000           |8.6661              |-2.80730000         |-0.4469900       |0        |\n",
      "|4.5459000           |8.1674              |-2.45860000         |-1.4621000       |0        |\n",
      "|3.8660000           |-2.6383             |1.92420000          |0.1064500        |0        |\n",
      "|3.4566000           |9.5228              |-4.01120000         |-3.5944000       |0        |\n",
      "|0.3292400           |-4.4552             |4.57180000          |-0.9888000       |0        |\n",
      "|4.3684000           |9.6718              |-3.96060000         |-3.1625000       |0        |\n",
      "|3.5912000           |3.0129              |0.72888000          |0.5642100        |0        |\n",
      "|2.0922000           |-6.81               |8.46360000          |-0.6021600       |0        |\n",
      "|3.2032000           |5.7588              |-0.75345000         |-0.6125100       |0        |\n",
      "|1.5356000           |9.1772              |-2.27180000         |-0.7353500       |0        |\n",
      "--------------------------------------------------------------------------------------------\n",
      "\n"
     ]
    }
   ],
   "source": [
    "df_banknote = session.table(\"BANKNOTE_AUTHENTICATION\")\n",
    "df_banknote.show()\n",
    "\n"
   ]
  },
  {
   "cell_type": "code",
   "execution_count": 4,
   "metadata": {},
   "outputs": [
    {
     "data": {
      "text/plain": [
       "[('VARIANCE_WAVELET', 'decimal(38,7)'),\n",
       " ('SKEWNESS_WAVELET', 'string(16777216)'),\n",
       " ('CURTOSIS_WAVELET', 'decimal(38,8)'),\n",
       " ('IMAGE_ENTROPY', 'decimal(38,7)'),\n",
       " ('CLASS', 'bigint')]"
      ]
     },
     "execution_count": 4,
     "metadata": {},
     "output_type": "execute_result"
    }
   ],
   "source": [
    "df_banknote.dtypes"
   ]
  },
  {
   "cell_type": "code",
   "execution_count": 5,
   "metadata": {},
   "outputs": [
    {
     "name": "stdout",
     "output_type": "stream",
     "text": [
      "---------------------------------------------------------------------------------------------------------------------\n",
      "|\"VARIANCE_WAVELET\"  |\"SKEWNESS_WAVELET\"  |\"CURTOSIS_WAVELET\"  |\"IMAGE_ENTROPY\"  |\"CLASS\"  |\"SKEWNESS_WAVELET_NEW\"  |\n",
      "---------------------------------------------------------------------------------------------------------------------\n",
      "|3.6216000           |8.6661              |-2.80730000         |-0.4469900       |0        |8.6661                  |\n",
      "|4.5459000           |8.1674              |-2.45860000         |-1.4621000       |0        |8.1674                  |\n",
      "|3.8660000           |-2.6383             |1.92420000          |0.1064500        |0        |-2.6383                 |\n",
      "|3.4566000           |9.5228              |-4.01120000         |-3.5944000       |0        |9.5228                  |\n",
      "|0.3292400           |-4.4552             |4.57180000          |-0.9888000       |0        |-4.4552                 |\n",
      "|4.3684000           |9.6718              |-3.96060000         |-3.1625000       |0        |9.6718                  |\n",
      "|3.5912000           |3.0129              |0.72888000          |0.5642100        |0        |3.0129                  |\n",
      "|2.0922000           |-6.81               |8.46360000          |-0.6021600       |0        |-6.81                   |\n",
      "|3.2032000           |5.7588              |-0.75345000         |-0.6125100       |0        |5.7588                  |\n",
      "|1.5356000           |9.1772              |-2.27180000         |-0.7353500       |0        |9.1772                  |\n",
      "---------------------------------------------------------------------------------------------------------------------\n",
      "\n",
      "------------------------------------------------------------------------------------------------\n",
      "|\"VARIANCE_WAVELET\"  |\"CURTOSIS_WAVELET\"  |\"IMAGE_ENTROPY\"  |\"CLASS\"  |\"SKEWNESS_WAVELET_NEW\"  |\n",
      "------------------------------------------------------------------------------------------------\n",
      "|3.6216000           |-2.80730000         |-0.4469900       |0        |8.6661                  |\n",
      "|4.5459000           |-2.45860000         |-1.4621000       |0        |8.1674                  |\n",
      "|3.8660000           |1.92420000          |0.1064500        |0        |-2.6383                 |\n",
      "|3.4566000           |-4.01120000         |-3.5944000       |0        |9.5228                  |\n",
      "|0.3292400           |4.57180000          |-0.9888000       |0        |-4.4552                 |\n",
      "|4.3684000           |-3.96060000         |-3.1625000       |0        |9.6718                  |\n",
      "|3.5912000           |0.72888000          |0.5642100        |0        |3.0129                  |\n",
      "|2.0922000           |8.46360000          |-0.6021600       |0        |-6.81                   |\n",
      "|3.2032000           |-0.75345000         |-0.6125100       |0        |5.7588                  |\n",
      "|1.5356000           |-2.27180000         |-0.7353500       |0        |9.1772                  |\n",
      "------------------------------------------------------------------------------------------------\n",
      "\n"
     ]
    }
   ],
   "source": [
    "new_col = df_banknote.col(\"SKEWNESS_WAVELET\").cast(\"float\")\n",
    "df_banknote = df_banknote.with_column('SKEWNESS_WAVELET_NEW', new_col)\n",
    "df_banknote.show()\n",
    "df_banknote= df_banknote.drop(\"SKEWNESS_WAVELET\")\n",
    "df_banknote.show()"
   ]
  },
  {
   "cell_type": "code",
   "execution_count": 6,
   "metadata": {},
   "outputs": [
    {
     "name": "stdout",
     "output_type": "stream",
     "text": [
      "------------------------------------------------------------------------------------------------\n",
      "|\"VARIANCE_WAVELET\"  |\"CURTOSIS_WAVELET\"  |\"IMAGE_ENTROPY\"  |\"CLASS\"  |\"SKEWNESS_WAVELET_NEW\"  |\n",
      "------------------------------------------------------------------------------------------------\n",
      "|3.6216000           |-2.80730000         |-0.4469900       |0        |8.6661                  |\n",
      "|4.5459000           |-2.45860000         |-1.4621000       |0        |8.1674                  |\n",
      "|3.8660000           |1.92420000          |0.1064500        |0        |-2.6383                 |\n",
      "|3.4566000           |-4.01120000         |-3.5944000       |0        |9.5228                  |\n",
      "|0.3292400           |4.57180000          |-0.9888000       |0        |-4.4552                 |\n",
      "|4.3684000           |-3.96060000         |-3.1625000       |0        |9.6718                  |\n",
      "|3.5912000           |0.72888000          |0.5642100        |0        |3.0129                  |\n",
      "|2.0922000           |8.46360000          |-0.6021600       |0        |-6.81                   |\n",
      "|3.2032000           |-0.75345000         |-0.6125100       |0        |5.7588                  |\n",
      "|1.5356000           |-2.27180000         |-0.7353500       |0        |9.1772                  |\n",
      "------------------------------------------------------------------------------------------------\n",
      "\n"
     ]
    },
    {
     "data": {
      "text/plain": [
       "[('VARIANCE_WAVELET', 'decimal(38,7)'),\n",
       " ('CURTOSIS_WAVELET', 'decimal(38,8)'),\n",
       " ('IMAGE_ENTROPY', 'decimal(38,7)'),\n",
       " ('CLASS', 'bigint'),\n",
       " ('SKEWNESS_WAVELET_NEW', 'double')]"
      ]
     },
     "execution_count": 6,
     "metadata": {},
     "output_type": "execute_result"
    }
   ],
   "source": [
    "df_banknote.show()\n",
    "FEATURE_COLUMNS = ['VARIANCE_WAVELET', 'SKEWNESS_WAVELET_NEW', 'CURTOSIS_WAVELET', 'IMAGE_ENTROPY']\n",
    "LABEL_COLUMN =['CLASS']\n",
    "df_banknote.dtypes"
   ]
  },
  {
   "cell_type": "markdown",
   "metadata": {},
   "source": [
    "## CORRELATION"
   ]
  },
  {
   "cell_type": "code",
   "execution_count": 9,
   "metadata": {},
   "outputs": [],
   "source": [
    "from snowflake.ml.modeling.metrics.correlation import correlation\n",
    "df_1= df_banknote.select(*FEATURE_COLUMNS)\n",
    "coor_matrix = correlation(df = df_1,)\n"
   ]
  },
  {
   "cell_type": "code",
   "execution_count": 37,
   "metadata": {},
   "outputs": [
    {
     "name": "stdout",
     "output_type": "stream",
     "text": [
      "                      VARIANCE_WAVELET  SKEWNESS_WAVELET_NEW  \\\n",
      "VARIANCE_WAVELET              1.000000              0.264026   \n",
      "SKEWNESS_WAVELET_NEW          0.264026              1.000000   \n",
      "CURTOSIS_WAVELET             -0.380850             -0.786895   \n",
      "IMAGE_ENTROPY                 0.276817             -0.526321   \n",
      "\n",
      "                      CURTOSIS_WAVELET  IMAGE_ENTROPY  \n",
      "VARIANCE_WAVELET             -0.380850       0.276817  \n",
      "SKEWNESS_WAVELET_NEW         -0.786895      -0.526321  \n",
      "CURTOSIS_WAVELET              1.000000       0.318841  \n",
      "IMAGE_ENTROPY                 0.318841       1.000000  \n"
     ]
    }
   ],
   "source": [
    "print(coor_matrix )\n",
    "train_df, df_test = df_banknote.random_split(weights=[0.8, 0.2], seed=62)"
   ]
  },
  {
   "cell_type": "markdown",
   "metadata": {},
   "source": [
    "# TRAINING MODEL (LIGHTGBM Model)"
   ]
  },
  {
   "cell_type": "code",
   "execution_count": 18,
   "metadata": {},
   "outputs": [
    {
     "name": "stderr",
     "output_type": "stream",
     "text": [
      "/Users/rpegu/opt/anaconda3/envs/py39/lib/python3.9/site-packages/snowflake/ml/modeling/_internal/snowpark_implementations/snowpark_trainer.py:531: UserWarning: Warning: The Decimal(38, 7) data type is being automatically converted to DoubleType in the Snowpark DataFrame. This automatic conversion may lead to potential precision loss and rounding errors. If you wish to prevent this conversion, you should manually perform the necessary data type conversion.\n",
      "  dataset = snowpark_dataframe_utils.cast_snowpark_dataframe_column_types(self.dataset)\n",
      "/Users/rpegu/opt/anaconda3/envs/py39/lib/python3.9/site-packages/snowflake/ml/modeling/_internal/snowpark_implementations/snowpark_trainer.py:531: UserWarning: Warning: The Decimal(38, 8) data type is being automatically converted to DoubleType in the Snowpark DataFrame. This automatic conversion may lead to potential precision loss and rounding errors. If you wish to prevent this conversion, you should manually perform the necessary data type conversion.\n",
      "  dataset = snowpark_dataframe_utils.cast_snowpark_dataframe_column_types(self.dataset)\n",
      "Package 'snowflake-telemetry-python' is not installed in the local environment. Your UDF might not work when the package is installed on the server but not on your local environment.\n",
      "/Users/rpegu/opt/anaconda3/envs/py39/lib/python3.9/site-packages/snowflake/ml/model/_signatures/snowpark_handler.py:41: UserWarning: Warning: Type DecimalType(38, 7) is being automatically converted to DOUBLE in the Snowpark DataFrame. This automatic conversion may lead to potential precision loss and rounding errors. If you wish to prevent this conversion, you should manually perform the necessary data type conversion.\n",
      "  core.DataType.from_snowpark_type(data_type)\n",
      "/Users/rpegu/opt/anaconda3/envs/py39/lib/python3.9/site-packages/snowflake/ml/model/_signatures/snowpark_handler.py:41: UserWarning: Warning: Type DecimalType(38, 8) is being automatically converted to DOUBLE in the Snowpark DataFrame. This automatic conversion may lead to potential precision loss and rounding errors. If you wish to prevent this conversion, you should manually perform the necessary data type conversion.\n",
      "  core.DataType.from_snowpark_type(data_type)\n"
     ]
    },
    {
     "data": {
      "text/plain": [
       "<snowflake.ml.modeling.lightgbm.lgbm_classifier.LGBMClassifier at 0x17b5bea90>"
      ]
     },
     "execution_count": 18,
     "metadata": {},
     "output_type": "execute_result"
    }
   ],
   "source": [
    "# make sure the lightgbm is installed in virtual enviroment first\n",
    "from snowflake.ml.modeling.lightgbm import LGBMClassifier\n",
    "\n",
    "# Split the data into train and test sets\n",
    "train_df, df_test = df_banknote.random_split(weights=[0.8, 0.2], seed=62)\n",
    "\n",
    "lgbclassifer  = LGBMClassifier(\n",
    "    input_cols = FEATURE_COLUMNS,\n",
    "    label_cols = LABEL_COLUMN,\n",
    "    output_cols ='PREDICTION'\n",
    ")\n",
    "\n",
    "lgbclassifer.fit(train_df)\n"
   ]
  },
  {
   "cell_type": "markdown",
   "metadata": {},
   "source": [
    "The fitted model can be retrieved as an XGB object "
   ]
  },
  {
   "cell_type": "code",
   "execution_count": 19,
   "metadata": {},
   "outputs": [],
   "source": [
    "lgbmodel_local = lgbclassifer.to_lightgbm()"
   ]
  },
  {
   "cell_type": "markdown",
   "metadata": {},
   "source": [
    "### plot the feature importance\n"
   ]
  },
  {
   "cell_type": "code",
   "execution_count": 20,
   "metadata": {},
   "outputs": [
    {
     "data": {
      "text/plain": [
       "<Axes: >"
      ]
     },
     "execution_count": 20,
     "metadata": {},
     "output_type": "execute_result"
    },
    {
     "data": {
      "image/png": "[encoded data removed]",
      "text/plain": [
       "<Figure size 500x1500 with 1 Axes>"
      ]
     },
     "metadata": {},
     "output_type": "display_data"
    }
   ],
   "source": [
    "import pandas as pd\n",
    "import matplotlib as plt\n",
    "# Plot feature importance\n",
    "feat_importance = pd.DataFrame(lgbmodel_local.feature_importances_,lgbmodel_local.feature_name_,columns=['FeatImportance'])\n",
    "feat_importance.sort_values('FeatImportance').plot.barh(y='FeatImportance', figsize=(5,15))"
   ]
  },
  {
   "cell_type": "markdown",
   "metadata": {},
   "source": [
    "# MODEL SCORING"
   ]
  },
  {
   "cell_type": "code",
   "execution_count": 23,
   "metadata": {},
   "outputs": [],
   "source": [
    "scored_sdf = lgbclassifer.predict(df_test)\n",
    "scored_sdf.write.save_as_table(table_name='BANKNOTE_LIGHTGBM_SCORED', mode='overwrite')\n"
   ]
  },
  {
   "cell_type": "code",
   "execution_count": 26,
   "metadata": {},
   "outputs": [
    {
     "name": "stdout",
     "output_type": "stream",
     "text": [
      "Acccuracy: 0.996283\n",
      "Precision: 1.0\n",
      "Recall: 0.9918032786885246\n",
      "F1: 0.9958847736625513\n"
     ]
    }
   ],
   "source": [
    "\n",
    "from snowflake.ml.modeling.metrics import *\n",
    "print('Acccuracy:', accuracy_score(df=scored_sdf , y_true_col_names=\"CLASS\", y_pred_col_names=\"PREDICTION\"))\n",
    "print('Precision:', precision_score(df=scored_sdf, y_true_col_names='CLASS', y_pred_col_names='PREDICTION'))\n",
    "print('Recall:', recall_score(df=scored_sdf, y_true_col_names='CLASS', y_pred_col_names='PREDICTION'))\n",
    "print('F1:', f1_score(df=scored_sdf, y_true_col_names='CLASS', y_pred_col_names='PREDICTION'))\n",
    "\n",
    "# Obtaining and plotting a simple confusion matrix\n",
    "cf_matrix = confusion_matrix(df=scored_sdf, y_true_col_name='CLASS', y_pred_col_name='PREDICTION')\n",
    "\n",
    "#sns.heatmap(cf_matrix, annot=True, fmt='.0f', cmap='Blues')"
   ]
  },
  {
   "cell_type": "code",
   "execution_count": 27,
   "metadata": {},
   "outputs": [
    {
     "name": "stdout",
     "output_type": "stream",
     "text": [
      "[[147.   0.]\n",
      " [  1. 121.]]\n"
     ]
    },
    {
     "data": {
      "text/plain": [
       "<Axes: >"
      ]
     },
     "execution_count": 27,
     "metadata": {},
     "output_type": "execute_result"
    },
    {
     "data": {
      "image/png": "[encoded data removed]",
      "text/plain": [
       "<Figure size 640x480 with 2 Axes>"
      ]
     },
     "metadata": {},
     "output_type": "display_data"
    }
   ],
   "source": [
    "import seaborn as sns\n",
    "print(cf_matrix)\n",
    "\n",
    "sns.heatmap(cf_matrix, annot=True, fmt='.0f', cmap='Blues')\n"
   ]
  },
  {
   "cell_type": "markdown",
   "metadata": {},
   "source": [
    "# Snowflake Model registry"
   ]
  },
  {
   "cell_type": "code",
   "execution_count": 13,
   "metadata": {},
   "outputs": [],
   "source": [
    "from snowflake.ml.registry import Registry\n",
    "session.sql(\"create schema if not exists ML_REGISTRY\").collect()\n",
    "\n",
    "db_name ='ML_MODELS'\n",
    "schema_name ='ML_REGISTRY'\n",
    "\n",
    "reg = Registry(session=session, database_name= db_name , schema_name=schema_name)"
   ]
  },
  {
   "cell_type": "code",
   "execution_count": 33,
   "metadata": {},
   "outputs": [],
   "source": [
    "mv = reg.log_model(lgbclassifer,\n",
    "                   model_name=\"lgbm_classification_model\",\n",
    "                   version_name=\"v1\")"
   ]
  },
  {
   "cell_type": "code",
   "execution_count": 37,
   "metadata": {},
   "outputs": [],
   "source": [
    "# Add evaluation metric\n",
    "mv.options=options={\"enable_explainability\": True}\n",
    "mv.sample_input_data=train_df"
   ]
  },
  {
   "cell_type": "code",
   "execution_count": 39,
   "metadata": {},
   "outputs": [
    {
     "data": {
      "text/html": [
       "<div>\n",
       "<style scoped>\n",
       "    .dataframe tbody tr th:only-of-type {\n",
       "        vertical-align: middle;\n",
       "    }\n",
       "\n",
       "    .dataframe tbody tr th {\n",
       "        vertical-align: top;\n",
       "    }\n",
       "\n",
       "    .dataframe thead th {\n",
       "        text-align: right;\n",
       "    }\n",
       "</style>\n",
       "<table border=\"1\" class=\"dataframe\">\n",
       "  <thead>\n",
       "    <tr style=\"text-align: right;\">\n",
       "      <th></th>\n",
       "      <th>created_on</th>\n",
       "      <th>name</th>\n",
       "      <th>model_type</th>\n",
       "      <th>database_name</th>\n",
       "      <th>schema_name</th>\n",
       "      <th>comment</th>\n",
       "      <th>owner</th>\n",
       "      <th>default_version_name</th>\n",
       "      <th>versions</th>\n",
       "      <th>aliases</th>\n",
       "    </tr>\n",
       "  </thead>\n",
       "  <tbody>\n",
       "    <tr>\n",
       "      <th>0</th>\n",
       "      <td>2024-11-13 11:40:33.721000-08:00</td>\n",
       "      <td>LGBM_CLASSIFICATION_MODEL</td>\n",
       "      <td>USER_MODEL</td>\n",
       "      <td>ML_MODELS</td>\n",
       "      <td>ML_REGISTRY</td>\n",
       "      <td>None</td>\n",
       "      <td>ACCOUNTADMIN</td>\n",
       "      <td>V1</td>\n",
       "      <td>[\"V1\"]</td>\n",
       "      <td>{\"DEFAULT\":\"V1\",\"FIRST\":\"V1\",\"LAST\":\"V1\"}</td>\n",
       "    </tr>\n",
       "  </tbody>\n",
       "</table>\n",
       "</div>"
      ],
      "text/plain": [
       "                        created_on                       name  model_type  \\\n",
       "0 2024-11-13 11:40:33.721000-08:00  LGBM_CLASSIFICATION_MODEL  USER_MODEL   \n",
       "\n",
       "  database_name  schema_name comment         owner default_version_name  \\\n",
       "0     ML_MODELS  ML_REGISTRY    None  ACCOUNTADMIN                   V1   \n",
       "\n",
       "  versions                                    aliases  \n",
       "0   [\"V1\"]  {\"DEFAULT\":\"V1\",\"FIRST\":\"V1\",\"LAST\":\"V1\"}  "
      ]
     },
     "execution_count": 39,
     "metadata": {},
     "output_type": "execute_result"
    }
   ],
   "source": [
    "reg.show_models()"
   ]
  },
  {
   "cell_type": "markdown",
   "metadata": {},
   "source": [
    "Now we can use model to perform inference"
   ]
  },
  {
   "cell_type": "markdown",
   "metadata": {},
   "source": [
    "## Model Explainability\n",
    "\n",
    "Another thing we may want to look at to better understand the predictions are explanations on what the model considers most impactful when generating the predictions. To generate these explanations, we'll use the built-in explainability function from Snowpark ML.\n",
    "\n",
    "Under the hood, this function is based on Shapley values. During the training process, machine learning models infer relationships between inputs and outputs, and Shapley values are a way to attribute the output of a machine learning model to its input features. By considering all possible combinations of features, Shapley values measure the average marginal contribution of each feature to the model’s prediction. While computationally intensive, the insights gained from Shapley values are invaluable for model interpretability and debugging.\n",
    "\n",
    "Let's calculate these explanations based on our optimal model now."
   ]
  },
  {
   "cell_type": "code",
   "execution_count": 49,
   "metadata": {},
   "outputs": [
    {
     "name": "stderr",
     "output_type": "stream",
     "text": [
      "/Users/rpegu/opt/anaconda3/envs/py39/lib/python3.9/site-packages/snowflake/ml/model/model_signature.py:491: UserWarning: Type DecimalType(38, 7) is being automatically converted to DOUBLE in the Snowpark DataFrame. This automatic conversion may lead to potential precision loss and rounding errors. If you wish to prevent this conversion, you should manually perform the necessary data type conversion.\n",
      "  _validate_snowpark_type_feature(\n",
      "/Users/rpegu/opt/anaconda3/envs/py39/lib/python3.9/site-packages/snowflake/ml/model/model_signature.py:491: UserWarning: Type DecimalType(38, 8) is being automatically converted to DOUBLE in the Snowpark DataFrame. This automatic conversion may lead to potential precision loss and rounding errors. If you wish to prevent this conversion, you should manually perform the necessary data type conversion.\n",
      "  _validate_snowpark_type_feature(\n"
     ]
    },
    {
     "name": "stdout",
     "output_type": "stream",
     "text": [
      "---------------------------------------------------------------------------------------------------------------\n",
      "|\"CLASS\"  |\"VARIANCE_WAVELET\"  |\"SKEWNESS_WAVELET_NEW\"  |\"CURTOSIS_WAVELET\"  |\"IMAGE_ENTROPY\"  |\"PREDICTION\"  |\n",
      "---------------------------------------------------------------------------------------------------------------\n",
      "|0        |3.4566              |9.5228                  |-4.0112             |-3.5944          |0             |\n",
      "|0        |4.3684              |9.6718                  |-3.9606             |-3.1625          |0             |\n",
      "|0        |3.5912              |3.0129                  |0.72888             |0.56421          |0             |\n",
      "|0        |3.2032              |5.7588                  |-0.75345            |-0.61251         |0             |\n",
      "|0        |1.8993              |7.6625                  |0.15394             |-3.1108          |0             |\n",
      "|0        |3.404               |8.7261                  |-2.9915             |-0.57242         |0             |\n",
      "|0        |2.6719              |3.0646                  |0.37158             |0.58619          |0             |\n",
      "|0        |0.80355             |2.8473                  |4.3439              |0.6017           |0             |\n",
      "|0        |5.2423              |11.0272                 |-4.353              |-4.1013          |0             |\n",
      "|0        |5.7867              |7.8902                  |-2.6196             |-0.48708         |0             |\n",
      "---------------------------------------------------------------------------------------------------------------\n",
      "\n"
     ]
    }
   ],
   "source": [
    "test_df_pred = mv.run(df_test,function_name ='predict')\n",
    "test_df_pred.show()"
   ]
  },
  {
   "cell_type": "code",
   "execution_count": 19,
   "metadata": {},
   "outputs": [],
   "source": [
    "reg.show_models()\n",
    "mv = reg.get_model('LGBM_CLASSIFICATION_MODEL').default\n"
   ]
  },
  {
   "cell_type": "code",
   "execution_count": 36,
   "metadata": {},
   "outputs": [
    {
     "data": {
      "text/plain": [
       "<snowflake.snowpark.dataframe.DataFrame at 0x18dcc40d0>"
      ]
     },
     "execution_count": 36,
     "metadata": {},
     "output_type": "execute_result"
    }
   ],
   "source": [
    "# Snowpark for Python\n",
    "from snowflake.snowpark.types import DoubleType\n",
    "for colname in ['VARIANCE_WAVELET','SKEWNESS_WAVELET_NEW','CURTOSIS_WAVELET','IMAGE_ENTROPY' ]:\n",
    "    train_df = train_df.with_column(colname, train_df[colname].cast(DoubleType()))\n",
    "\n",
    "train_df"
   ]
  },
  {
   "cell_type": "code",
   "execution_count": 38,
   "metadata": {},
   "outputs": [
    {
     "data": {
      "text/html": [
       "<div>\n",
       "<style scoped>\n",
       "    .dataframe tbody tr th:only-of-type {\n",
       "        vertical-align: middle;\n",
       "    }\n",
       "\n",
       "    .dataframe tbody tr th {\n",
       "        vertical-align: top;\n",
       "    }\n",
       "\n",
       "    .dataframe thead th {\n",
       "        text-align: right;\n",
       "    }\n",
       "</style>\n",
       "<table border=\"1\" class=\"dataframe\">\n",
       "  <thead>\n",
       "    <tr style=\"text-align: right;\">\n",
       "      <th></th>\n",
       "      <th>CLASS</th>\n",
       "      <th>VARIANCE_WAVELET</th>\n",
       "      <th>SKEWNESS_WAVELET_NEW</th>\n",
       "      <th>CURTOSIS_WAVELET</th>\n",
       "      <th>IMAGE_ENTROPY</th>\n",
       "      <th>\"VARIANCE_WAVELET_explanation\"</th>\n",
       "      <th>\"SKEWNESS_WAVELET_NEW_explanation\"</th>\n",
       "      <th>\"CURTOSIS_WAVELET_explanation\"</th>\n",
       "      <th>\"IMAGE_ENTROPY_explanation\"</th>\n",
       "    </tr>\n",
       "  </thead>\n",
       "  <tbody>\n",
       "    <tr>\n",
       "      <th>0</th>\n",
       "      <td>0</td>\n",
       "      <td>2.9421</td>\n",
       "      <td>7.4101</td>\n",
       "      <td>-0.97709</td>\n",
       "      <td>-0.88406</td>\n",
       "      <td>-6.391948</td>\n",
       "      <td>-3.009576</td>\n",
       "      <td>0.087381</td>\n",
       "      <td>-0.137284</td>\n",
       "    </tr>\n",
       "    <tr>\n",
       "      <th>1</th>\n",
       "      <td>0</td>\n",
       "      <td>3.9663</td>\n",
       "      <td>10.1684</td>\n",
       "      <td>-4.11310</td>\n",
       "      <td>-4.60560</td>\n",
       "      <td>-6.130634</td>\n",
       "      <td>-4.241913</td>\n",
       "      <td>1.331752</td>\n",
       "      <td>-0.145134</td>\n",
       "    </tr>\n",
       "    <tr>\n",
       "      <th>2</th>\n",
       "      <td>0</td>\n",
       "      <td>0.9297</td>\n",
       "      <td>-3.7971</td>\n",
       "      <td>4.64290</td>\n",
       "      <td>-0.29570</td>\n",
       "      <td>-5.527113</td>\n",
       "      <td>1.695885</td>\n",
       "      <td>-3.999166</td>\n",
       "      <td>-0.508946</td>\n",
       "    </tr>\n",
       "    <tr>\n",
       "      <th>3</th>\n",
       "      <td>0</td>\n",
       "      <td>2.7365</td>\n",
       "      <td>-5.0325</td>\n",
       "      <td>6.66080</td>\n",
       "      <td>-0.57889</td>\n",
       "      <td>-8.861829</td>\n",
       "      <td>1.954492</td>\n",
       "      <td>-2.263927</td>\n",
       "      <td>-0.151235</td>\n",
       "    </tr>\n",
       "    <tr>\n",
       "      <th>4</th>\n",
       "      <td>0</td>\n",
       "      <td>4.5645</td>\n",
       "      <td>-3.6275</td>\n",
       "      <td>2.86840</td>\n",
       "      <td>0.27714</td>\n",
       "      <td>-9.487284</td>\n",
       "      <td>1.413296</td>\n",
       "      <td>-1.697121</td>\n",
       "      <td>0.310481</td>\n",
       "    </tr>\n",
       "  </tbody>\n",
       "</table>\n",
       "</div>"
      ],
      "text/plain": [
       "   CLASS  VARIANCE_WAVELET  SKEWNESS_WAVELET_NEW  CURTOSIS_WAVELET  \\\n",
       "0      0            2.9421                7.4101          -0.97709   \n",
       "1      0            3.9663               10.1684          -4.11310   \n",
       "2      0            0.9297               -3.7971           4.64290   \n",
       "3      0            2.7365               -5.0325           6.66080   \n",
       "4      0            4.5645               -3.6275           2.86840   \n",
       "\n",
       "   IMAGE_ENTROPY  \"VARIANCE_WAVELET_explanation\"  \\\n",
       "0       -0.88406                       -6.391948   \n",
       "1       -4.60560                       -6.130634   \n",
       "2       -0.29570                       -5.527113   \n",
       "3       -0.57889                       -8.861829   \n",
       "4        0.27714                       -9.487284   \n",
       "\n",
       "   \"SKEWNESS_WAVELET_NEW_explanation\"  \"CURTOSIS_WAVELET_explanation\"  \\\n",
       "0                           -3.009576                        0.087381   \n",
       "1                           -4.241913                        1.331752   \n",
       "2                            1.695885                       -3.999166   \n",
       "3                            1.954492                       -2.263927   \n",
       "4                            1.413296                       -1.697121   \n",
       "\n",
       "   \"IMAGE_ENTROPY_explanation\"  \n",
       "0                    -0.137284  \n",
       "1                    -0.145134  \n",
       "2                    -0.508946  \n",
       "3                    -0.151235  \n",
       "4                     0.310481  "
      ]
     },
     "execution_count": 38,
     "metadata": {},
     "output_type": "execute_result"
    }
   ],
   "source": [
    "import shap\n",
    "\n",
    "mv_explanations_pd = mv_explanations.to_pandas()\n",
    "\n",
    "mv_explanations_pd.head()\n"
   ]
  },
  {
   "cell_type": "code",
   "execution_count": null,
   "metadata": {},
   "outputs": [
    {
     "name": "stdout",
     "output_type": "stream",
     "text": [
      "Index(['CLASS', 'VARIANCE_WAVELET', 'SKEWNESS_WAVELET_NEW', 'CURTOSIS_WAVELET',\n",
      "       'IMAGE_ENTROPY', '\"VARIANCE_WAVELET_explanation\"',\n",
      "       '\"SKEWNESS_WAVELET_NEW_explanation\"', '\"CURTOSIS_WAVELET_explanation\"',\n",
      "       '\"IMAGE_ENTROPY_explanation\"'],\n",
      "      dtype='object')\n",
      "Index(['CLASS', 'VARIANCE_WAVELET', 'SKEWNESS_WAVELET_NEW', 'CURTOSIS_WAVELET',\n",
      "       'IMAGE_ENTROPY', 'VARIANCE_WAVELET_explanation',\n",
      "       'SKEWNESS_WAVELET_NEW_explanation', 'CURTOSIS_WAVELET_explanation',\n",
      "       'IMAGE_ENTROPY_explanation'],\n",
      "      dtype='object')\n"
     ]
    }
   ],
   "source": [
    "print(mv_explanations_pd.columns)\n",
    "mv_explanations_pd.rename(columns={'\"VARIANCE_WAVELET_explanation\"': 'VARIANCE_WAVELET_explanation', '\"SKEWNESS_WAVELET_NEW_explanation\"': 'SKEWNESS_WAVELET_NEW_explanation',\n",
    "                   '\"CURTOSIS_WAVELET_explanation\"':'CURTOSIS_WAVELET_explanation', '\"IMAGE_ENTROPY_explanation\"': 'IMAGE_ENTROPY_explanation'}, inplace=True)\n",
    "\n",
    "print(mv_explanations_pd.columns)"
   ]
  },
  {
   "cell_type": "code",
   "execution_count": 40,
   "metadata": {},
   "outputs": [
    {
     "data": {
      "image/png": "[encoded data removed]",
      "text/plain": [
       "<Figure size 800x350 with 1 Axes>"
      ]
     },
     "metadata": {},
     "output_type": "display_data"
    }
   ],
   "source": [
    "mv_explanations_pd_2 = mv_explanations_pd[['VARIANCE_WAVELET_explanation',\n",
    "                                          'SKEWNESS_WAVELET_NEW_explanation', \n",
    "                                          'CURTOSIS_WAVELET_explanation',\n",
    "                                            'IMAGE_ENTROPY_explanation']]\n",
    "\n",
    "# Wrapping the explanations DataFrame into a SHAP recognized object\n",
    "shap_exp = shap._explanation.Explanation(mv_explanations_pd_2.values, \n",
    "                                         feature_names = mv_explanations_pd_2.columns)\n",
    "shap.plots.bar(shap_exp)"
   ]
  },
  {
   "cell_type": "code",
   "execution_count": 44,
   "metadata": {},
   "outputs": [
    {
     "data": {
      "text/plain": [
       "[('VARIANCE_WAVELET', 'decimal(38,7)'),\n",
       " ('CURTOSIS_WAVELET', 'decimal(38,8)'),\n",
       " ('IMAGE_ENTROPY', 'decimal(38,7)'),\n",
       " ('CLASS', 'bigint'),\n",
       " ('SKEWNESS_WAVELET_NEW', 'double')]"
      ]
     },
     "execution_count": 44,
     "metadata": {},
     "output_type": "execute_result"
    }
   ],
   "source": [
    "train_df.dtypes"
   ]
  }
 ],
 "metadata": {
  "kernelspec": {
   "display_name": "py39",
   "language": "python",
   "name": "python3"
  },
  "language_info": {
   "codemirror_mode": {
    "name": "ipython",
    "version": 3
   },
   "file_extension": ".py",
   "mimetype": "text/x-python",
   "name": "python",
   "nbconvert_exporter": "python",
   "pygments_lexer": "ipython3",
   "version": "3.9.20"
  }
 },
 "nbformat": 4,
 "nbformat_minor": 2
}
